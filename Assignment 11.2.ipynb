{
 "cells": [
  {
   "cell_type": "code",
   "execution_count": null,
   "metadata": {},
   "outputs": [],
   "source": [
    "#Build the linear regression model using scikit learn in boston data to predict 'Price'\n",
    "#based on other dependent variable.\n",
    "#Here is the code to load the data\n",
    "#import numpy as np\n",
    "#import pandas as pd\n",
    "#import scipy.stats as stats\n",
    "#import matplotlib.pyplot as plt\n",
    "#import sklearn\n",
    "#from sklearn.datasets import load_boston\n",
    "#boston = load_boston()\n",
    "#bos = pd.DataFrame(boston.data)"
   ]
  },
  {
   "cell_type": "code",
   "execution_count": 4,
   "metadata": {},
   "outputs": [
    {
     "name": "stdout",
     "output_type": "stream",
     "text": [
      "r2_score: 0.6955388005506411\n",
      "accuracy of the model: 0.6955388005506411\n",
      "coefficiants of the features are: \n",
      "[[-1.56381297e-01  3.85490972e-02 -2.50629921e-02  7.86439684e-01\n",
      "  -1.29469121e+01  4.00268857e+00 -1.16023395e-02 -1.36828811e+00\n",
      "   3.41756915e-01 -1.35148823e-02 -9.88866034e-01  1.20588215e-02\n",
      "  -4.72644280e-01]]\n"
     ]
    }
   ],
   "source": [
    "#importing libraries\n",
    "import numpy as np\n",
    "import pandas as pd\n",
    "import matplotlib.pyplot as plt\n",
    "from sklearn.datasets import load_boston\n",
    "from sklearn.metrics import r2_score\n",
    "\n",
    "#importing the dataset\n",
    "boston = load_boston()\n",
    "\n",
    "# define the data/predictors as the pre-set feature names  \n",
    "df = pd.DataFrame(boston.data, columns=boston.feature_names)\n",
    "\n",
    "# Put the target (housing value -- MEDV) in another DataFrame\n",
    "target = pd.DataFrame(boston.target, columns=[\"MEDV\"])\n",
    "\n",
    "X = df\n",
    "y = target\n",
    "\n",
    "# Splitting the dataset into the Training set and Test set\n",
    "from sklearn.cross_validation import train_test_split\n",
    "X_train,X_test,y_train,y_test=train_test_split(X,y,test_size = 0.33, random_state = 5)\n",
    "\n",
    "# Fitting Simple Linear Regression to the Training set\n",
    "from sklearn.linear_model import LinearRegression\n",
    "lm = LinearRegression()\n",
    "lm.fit(X_train, y_train)\n",
    "\n",
    "# Predicting the Test set results\n",
    "y_pred = lm.predict(X_test)\n",
    "\n",
    "print(\"r2_score:\",end=\" \")\n",
    "print(r2_score(y_test,y_pred))\n",
    "print(\"accuracy of the model:\",end=\" \")\n",
    "print(lm.score(X_test,y_test))\n",
    "print(\"coefficiants of the features are: \")\n",
    "print(lm.coef_)\n",
    "\n",
    "\n",
    "\n"
   ]
  },
  {
   "cell_type": "code",
   "execution_count": null,
   "metadata": {},
   "outputs": [],
   "source": []
  },
  {
   "cell_type": "code",
   "execution_count": null,
   "metadata": {},
   "outputs": [],
   "source": []
  },
  {
   "cell_type": "code",
   "execution_count": null,
   "metadata": {},
   "outputs": [],
   "source": []
  },
  {
   "cell_type": "code",
   "execution_count": null,
   "metadata": {},
   "outputs": [],
   "source": []
  },
  {
   "cell_type": "code",
   "execution_count": null,
   "metadata": {},
   "outputs": [],
   "source": []
  },
  {
   "cell_type": "code",
   "execution_count": null,
   "metadata": {},
   "outputs": [],
   "source": []
  }
 ],
 "metadata": {
  "kernelspec": {
   "display_name": "Python 3",
   "language": "python",
   "name": "python3"
  },
  "language_info": {
   "codemirror_mode": {
    "name": "ipython",
    "version": 3
   },
   "file_extension": ".py",
   "mimetype": "text/x-python",
   "name": "python",
   "nbconvert_exporter": "python",
   "pygments_lexer": "ipython3",
   "version": "3.5.6"
  }
 },
 "nbformat": 4,
 "nbformat_minor": 2
}
